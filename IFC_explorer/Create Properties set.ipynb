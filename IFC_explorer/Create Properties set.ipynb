{
 "cells": [
  {
   "cell_type": "markdown",
   "id": "b1a4b585-6b2d-4daf-b3eb-4c56ff1701c8",
   "metadata": {},
   "source": [
    "## Code Start to Add concrete grade to all Piles"
   ]
  },
  {
   "cell_type": "code",
   "execution_count": 2,
   "id": "2aeb85ff-c416-44f7-9af2-c6154ba3e0c7",
   "metadata": {},
   "outputs": [],
   "source": [
    "import pandas as pd\n",
    "import numpy as np\n",
    "import random\n",
    "import ifcopenshell\n",
    "import ifcopenshell.util.element\n",
    "from ifcopenshell.util.selector import Selector\n",
    "from ifcopenshell.util.element import get_psets as check\n",
    "\n",
    "from ifcopenshell.util.placement import get_local_placement\n",
    "import datetime\n",
    "import random\n",
    "from ifcopenshell.util.selector import Selector\n",
    "import uuid\n",
    "\n",
    "create_guid = lambda: ifcopenshell.guid.compress(uuid.uuid1().hex)\n",
    "\n",
    "## File name path here \n",
    "ifc_file= ifcopenshell.open('OMC2-R8.ifc')\n",
    "\n",
    "## Define elements to select\n",
    "Piles=ifc_file.by_type(\"IfcPile\")\n",
    "\n",
    "from ifcopenshell.util.element import get_psets as check"
   ]
  },
  {
   "cell_type": "code",
   "execution_count": 3,
   "id": "fbc0fdd4-e4b4-46cc-b72e-2fac25afebfc",
   "metadata": {},
   "outputs": [],
   "source": [
    "def random_grade():\n",
    "    return random.choice([\"G35\",\"G40\",\"G45\"])"
   ]
  },
  {
   "cell_type": "code",
   "execution_count": 4,
   "id": "107ca064-a857-4841-a546-4b4d349945d8",
   "metadata": {},
   "outputs": [
    {
     "data": {
      "text/plain": [
       "'G35'"
      ]
     },
     "execution_count": 4,
     "metadata": {},
     "output_type": "execute_result"
    }
   ],
   "source": [
    "random_grade()"
   ]
  },
  {
   "cell_type": "code",
   "execution_count": 4,
   "id": "1f2c7f8a-93ec-4f4d-9ded-e1f9ab82cf50",
   "metadata": {},
   "outputs": [],
   "source": [
    "\n",
    "\n",
    "## Create concrete grade properties - Properties name = Concrete Grade, Value = (random grade, field type = IfcText)\n",
    "## Concrete_grade_prop =ifc_file.createIfcPropertySingleValue(\"Concrete Grade\", \"Concrete Grade\", ifc_file.create_entity(\"IfcText\", random_grade()), None)\n",
    "\n",
    "## required - used the same owner history as ifc_file\n",
    "owner_history = ifc_file.by_type(\"IfcOwnerHistory\")[0]\n",
    "\n",
    "## Loop thru elements in Piles\n",
    "for each in Piles:\n",
    "    ## For each isdefined by\n",
    "    for each2 in each.IsDefinedBy:\n",
    "        ## If there is \"Materials and Finishes\" properties\n",
    "        if (each2.RelatingPropertyDefinition.Name==\"Materials and Finishes\"):\n",
    "            \n",
    "            ## Concat (Add) Concrete grade properties to Materials and Finishes properties set\n",
    "            each2.RelatingPropertyDefinition.HasProperties+=tuple([ifc_file.createIfcPropertySingleValue(\"Concrete Grade\", \"Concrete Grade\", ifc_file.create_entity(\"IfcText\", random_grade()), None)])\n",
    "            print(each2.RelatingPropertyDefinition.HasProperties)\n",
    "            break;\n",
    "   \n",
    "        else:\n",
    "            ## Create Materials and finishes property set , and also assign concrete grade properties to it\n",
    "            property_set = ifc_file.createIfcPropertySet(create_guid(), owner_history, \"Materials and Finishes\", None, [ifc_file.createIfcPropertySingleValue(\"Concrete Grade\", \"Concrete Grade\", ifc_file.create_entity(\"IfcText\", random_grade()), None)])\n",
    "            \n",
    "            ## Create relationship between the element and the properties set that we just created, and assigning a unique guid for the relationship\n",
    "            ifc_file.createIfcRelDefinesByProperties(create_guid(), owner_history, None, None, [each], property_set)\n",
    "            break;\n",
    "\n",
    "\n",
    "## DO NOT RUN MORE THAN 1 TIMES , IF NOT THERE WILL BE MORE THAN 1 CONCRETE GRADE PROPERTIES IN MATERIALS AND FINISHES\n",
    "\n",
    "## To improve: add a check to see if we already have cocnrete grade in material and finshes"
   ]
  },
  {
   "cell_type": "code",
   "execution_count": 5,
   "id": "ffbe6bc8-e5c8-47bc-95d0-ab497320afb1",
   "metadata": {},
   "outputs": [],
   "source": [
    "ifc_file_after= 'OMC2_R8_Mod_R1.ifc'\n",
    "ifc_file.write(ifc_file_after)"
   ]
  },
  {
   "cell_type": "markdown",
   "id": "91f02ec4-33eb-436b-8a0b-81a79a5e91c4",
   "metadata": {},
   "source": [
    "## Code Completed to add concrete grade to all Piles"
   ]
  },
  {
   "cell_type": "markdown",
   "id": "1fda3e14-8d95-4358-b94e-111c26788b37",
   "metadata": {},
   "source": [
    "## Code Start to add construction type for structural elements"
   ]
  },
  {
   "cell_type": "code",
   "execution_count": 16,
   "id": "55277563-8ddc-4519-b1c7-9a5c2f28fab4",
   "metadata": {},
   "outputs": [],
   "source": [
    "## To add construction type to Materials and finishes properties set from either Precast or Cast in situ\n",
    "\n",
    "def random_con_type():\n",
    "    return random.choice([\"Precast\",\"Cast in situ\"])"
   ]
  },
  {
   "cell_type": "code",
   "execution_count": 17,
   "id": "d58e4bfb-2daf-41f3-a5de-0fba44a661ad",
   "metadata": {},
   "outputs": [],
   "source": [
    "selector=Selector()\n",
    "\n",
    "## Select all structural element\n",
    "Strctural_ele=selector.parse(ifc_file, '.IfcWall | .IfcColumn | .IfcBeam | .IfcSlab | .IfcStair  ')\n"
   ]
  },
  {
   "cell_type": "code",
   "execution_count": 20,
   "id": "def1b445-78ba-425c-9d70-5cc7600b4174",
   "metadata": {},
   "outputs": [],
   "source": [
    "## Loop thru the elements\n",
    "for each in Strctural_ele:\n",
    "    ## If Z value >0 - means not pile\n",
    "    if (get_local_placement(each.ObjectPlacement)[0:3,3][2])>0:\n",
    "        for each2 in each.IsDefinedBy:\n",
    "            ## Check if Materials and Finishes properties exsit\n",
    "            if (each2.RelatingPropertyDefinition.Name==\"Materials and Finishes\"):\n",
    "                \n",
    "                ## Concat (Add) Concrete grade properties to Materials and Finishes properties set\n",
    "                each2.RelatingPropertyDefinition.HasProperties+=tuple([ifc_file.createIfcPropertySingleValue(\"Construction Type\", \"Construction Type\", ifc_file.create_entity(\"IfcText\", random_con_type()), None)])\n",
    "                print(each2.RelatingPropertyDefinition.HasProperties)\n",
    "                break;\n",
    "\n",
    "            else:\n",
    "                ## Create Materials and finishes property set , and also assign concrete grade properties to it\n",
    "                property_set = ifc_file.createIfcPropertySet(create_guid(), owner_history, \"Materials and Finishes\", None, [ifc_file.createIfcPropertySingleValue(\"Construction Type\", \"Construction Type\", ifc_file.create_entity(\"IfcText\", random_con_type()), None)])\n",
    "               \n",
    "                ## Create relationship between the element and the properties set that we just created, and assigning a unique guid for the relationship\n",
    "                ifc_file.createIfcRelDefinesByProperties(create_guid(), owner_history, None, None, [each], property_set)\n",
    "                break;\n",
    "    else:\n",
    "        pass\n",
    "    \n",
    "## DO NOT RUN MORE THAN 1 TIMES , same as above\n",
    "\n",
    "## To improve: SAME AS ABOVE"
   ]
  },
  {
   "cell_type": "code",
   "execution_count": 25,
   "id": "d2ac338c-b03a-44b2-aa4a-9a3844007311",
   "metadata": {},
   "outputs": [],
   "source": [
    "ifc_file_after= 'OMC2_R8_Mod_R1.ifc'\n",
    "ifc_file.write(ifc_file_after)"
   ]
  },
  {
   "cell_type": "markdown",
   "id": "8dcfed57-efab-4a09-b26f-f857ee5907a8",
   "metadata": {},
   "source": [
    "## Code Complete to add construction type for structural elements"
   ]
  },
  {
   "cell_type": "markdown",
   "id": "84d81038-9b5e-4d3f-9259-960f453bbbb4",
   "metadata": {},
   "source": [
    "## Code Start for Structural Type"
   ]
  },
  {
   "cell_type": "code",
   "execution_count": 89,
   "id": "ea569cc8-b358-4533-aa81-5e19fa549396",
   "metadata": {},
   "outputs": [
    {
     "data": {
      "text/plain": [
       "1186"
      ]
     },
     "execution_count": 89,
     "metadata": {},
     "output_type": "execute_result"
    }
   ],
   "source": [
    "## Add IFC export type too all select elements, under text properties set\n",
    "\n",
    "selector=Selector()\n",
    "Strctural_ele=selector.parse(ifc_file, '.IfcWall | .IfcColumn | .IfcBeam | .IfcSlab | .IfcStair  ')\n",
    "\n",
    "len(Strctural_ele)"
   ]
  },
  {
   "cell_type": "code",
   "execution_count": 90,
   "id": "d2195ea2-01f0-4082-9e09-2ccd054cadd8",
   "metadata": {},
   "outputs": [],
   "source": [
    "IFCExportType_prop =ifc_file.createIfcPropertySingleValue(\"IFCExportType\", \"IFCExportType\", ifc_file.create_entity(\"IfcText\", \"\"), None)\n",
    "\n",
    "\n",
    "for each in Strctural_ele:\n",
    "    for each2 in each.IsTypedBy[0].RelatingType.HasPropertySets:\n",
    "        if each2.Name==\"Text\":\n",
    "            for each3 in each2.HasProperties:\n",
    "                if each3.Name==\"IfcExportType\":\n",
    "                    break\n",
    "        else:\n",
    "            property_set = ifc_file.createIfcPropertySet(create_guid(), owner_history, \"Text\", None, [ifc_file.createIfcPropertySingleValue(\"IFCExportType\", \"IFCExportType\", ifc_file.create_entity(\"IfcText\", \"\"), None)])\n",
    "            ifc_file.createIfcRelDefinesByProperties(create_guid(), owner_history, None, None, [each], property_set)\n",
    "            break;\n",
    "\n",
    "            \n",
    "                "
   ]
  },
  {
   "cell_type": "code",
   "execution_count": 45,
   "id": "3d7b99e5-dc21-49ac-b87a-b328b1b3314d",
   "metadata": {},
   "outputs": [],
   "source": [
    "ifc_file_after= 'OMC2_R8_After_Products.ifc'\n",
    "ifc_file.write(ifc_file_after)"
   ]
  },
  {
   "cell_type": "code",
   "execution_count": null,
   "id": "43f70736-8601-4704-bce9-8378966e1b45",
   "metadata": {},
   "outputs": [],
   "source": []
  },
  {
   "cell_type": "markdown",
   "id": "98d7c124-4e5b-497e-a0a8-e0800112d868",
   "metadata": {},
   "source": [
    "## Code Completed for Structural Type"
   ]
  },
  {
   "cell_type": "markdown",
   "id": "6ddb3426-c02f-4865-b7eb-78ad07b1eead",
   "metadata": {},
   "source": [
    "## Code Start  to Add concrete grade to all structural elements where Z > 0"
   ]
  },
  {
   "cell_type": "code",
   "execution_count": 10,
   "id": "35858885-8dbc-4898-b6b4-97adff65d96f",
   "metadata": {},
   "outputs": [],
   "source": [
    "\n",
    "## Select all structural element to add concrete grade\n",
    "selector=Selector()\n",
    "Strctural_concrete_grade=selector.parse(ifc_file, '.IfcWall | .IfcColumn | .IfcBeam | .IfcSlab | .IfcStair  ')\n"
   ]
  },
  {
   "cell_type": "code",
   "execution_count": 17,
   "id": "4ae24e4c-a6ff-4025-9e84-a7d136bea8a5",
   "metadata": {},
   "outputs": [],
   "source": [
    "\n",
    "element=Strctural_concrete_grade\n",
    "\n",
    "## Select all structural element to add concrete grade\n",
    "## property_values =ifc_file.createIfcPropertySingleValue(\"Concrete Grade\", \"Concrete Grade\", ifc_file.create_entity(\"IfcText\", \"G45\"), None)\n",
    "\n",
    "owner_history = ifc_file.by_type(\"IfcOwnerHistory\")[0]\n",
    "\n",
    "\n",
    "for each in element:\n",
    "    try:\n",
    "        ## Check if Concrete grade is available already in material properpeties set ( Its a diffrent properties set than the direct relationship - if an element belongs to a material group which have concrete grade, it applies to the element also)\n",
    "        if \"Concrete Grade\" in str(test_set[9].HasAssociations[0].RelatingMaterial.ForLayerSet.MaterialLayers):\n",
    "            break;\n",
    "        else:\n",
    "            pass\n",
    "    except:\n",
    "        pass\n",
    "    \n",
    "    ## Loop thry elements properties\n",
    "    for each2 in each.IsDefinedBy:\n",
    "        ## Check if materials and finishes is in it\n",
    "        if \"Materials and Finishes\" not in list(each2.RelatingPropertyDefinition):\n",
    "            ## Create new property set, with concrete grade G45\n",
    "            property_set = ifc_file.createIfcPropertySet(create_guid(), owner_history, \"Materials and Finishes\", None, [ifc_file.createIfcPropertySingleValue(\"Concrete Grade\", \"Concrete Grade\", ifc_file.create_entity(\"IfcText\", \"G45\"), None)])\n",
    "            \n",
    "            ## Create relationship between the elements and the property set\n",
    "            ifc_file.createIfcRelDefinesByProperties(create_guid(), owner_history, None, None, [each], property_set)\n",
    "            break;\n",
    "        \n",
    "        ## Check if conrete grade is available or not - instead of checking materials and finishes - avoid duplicate , but wont work if other properties set have Concrete grade   \n",
    "        elif \"Concrete Grade\" not in list(each2.RelatingPropertyDefinition.HasProperties):\n",
    "       \n",
    "            each2.RelatingPropertyDefinition.HasProperties+=tuple([ifc_file.createIfcPropertySingleValue(\"Concrete Grade\", \"Concrete Grade\", ifc_file.create_entity(\"IfcText\", \"G45\"), None)])\n",
    "            break;\n",
    "            \n",
    "            \n",
    "## CAN RUN MORE THAN 1 TIMES , BUT CODE DOESNT WORK IF THERE ARE MORE THAN 1 CONCRETE GRADE\n"
   ]
  },
  {
   "cell_type": "code",
   "execution_count": 16,
   "id": "d4d747a0-3a58-4513-9efd-d86895483b9e",
   "metadata": {},
   "outputs": [],
   "source": [
    "ifc_file_after= 'OMC2_R8_Mod_R1.ifc'\n",
    "ifc_file.write(ifc_file_after)"
   ]
  },
  {
   "cell_type": "markdown",
   "id": "7eec1a70-3727-4ebf-bab0-819971f5022e",
   "metadata": {},
   "source": [
    "## Code complete to Add concrete grade to all structural elements where Z > 0"
   ]
  },
  {
   "cell_type": "markdown",
   "id": "462b1ce5-e6f0-4595-bccb-f5e298ba483c",
   "metadata": {},
   "source": [
    "## Code start for adding Type of Constrction, Type of Wall and post tendon to Z>0"
   ]
  },
  {
   "cell_type": "code",
   "execution_count": 22,
   "id": "4319387c-4f8e-47d1-9052-de31fe773899",
   "metadata": {},
   "outputs": [],
   "source": [
    "selector=Selector()\n",
    "Strctural=selector.parse(ifc_file, '.IfcWall | .IfcColumn | .IfcBeam | .IfcSlab | .IfcStair  ')\n"
   ]
  },
  {
   "cell_type": "code",
   "execution_count": 49,
   "id": "547ccbef-9e29-4db6-8c56-946e8d933fc8",
   "metadata": {},
   "outputs": [
    {
     "data": {
      "text/plain": [
       "1186"
      ]
     },
     "execution_count": 49,
     "metadata": {},
     "output_type": "execute_result"
    }
   ],
   "source": [
    "len(Strctural)"
   ]
  },
  {
   "cell_type": "code",
   "execution_count": 67,
   "id": "13f0fcb6-2f2a-4794-8168-50c4bbc6e63c",
   "metadata": {},
   "outputs": [],
   "source": [
    "for each in Strctural:\n",
    "    if(get_local_placement(each.ObjectPlacement)[0:3,3][2])<0:\n",
    "        Strctural.remove(each)\n"
   ]
  },
  {
   "cell_type": "code",
   "execution_count": 51,
   "id": "6de2e645-e821-4af5-ad56-2fe1e61bb608",
   "metadata": {},
   "outputs": [
    {
     "data": {
      "text/plain": [
       "False"
      ]
     },
     "execution_count": 51,
     "metadata": {},
     "output_type": "execute_result"
    }
   ],
   "source": [
    "Strctural[0].is_a('IfcPile')"
   ]
  },
  {
   "cell_type": "code",
   "execution_count": 52,
   "id": "00411270-ad4b-44f9-a22b-838d6408d5b6",
   "metadata": {},
   "outputs": [],
   "source": [
    "def random_method():\n",
    "    return random.choice([\"Precast\",\"Cast in-situ\"])"
   ]
  },
  {
   "cell_type": "markdown",
   "id": "f4631fb6-10f9-434b-b8e6-6173d5d78c95",
   "metadata": {},
   "source": [
    "for each in element:\n",
    "    if type of contruction not exist/empty:\n",
    "        create random precast/Cast In situ\n",
    "    \n",
    "    if each is a Wall:\n",
    "        if type of wall not exisit or empty \n",
    "            - random type of wall\n",
    "        else \n",
    "            pass\n",
    "    if each is a beam or slab\n",
    "             if type of construction  == Precast\n",
    "                 if post tension not existim empty\n",
    "                         create post tendion ratio\n",
    "   "
   ]
  },
  {
   "cell_type": "code",
   "execution_count": null,
   "id": "0c40c6fb-f874-4ae5-b721-f9c0c887d200",
   "metadata": {},
   "outputs": [],
   "source": [
    "\n",
    "## NOT COMPLETE YET"
   ]
  },
  {
   "cell_type": "code",
   "execution_count": 93,
   "id": "a253f75e-9f15-4745-8969-93bfde1a4f99",
   "metadata": {},
   "outputs": [],
   "source": []
  },
  {
   "cell_type": "code",
   "execution_count": null,
   "id": "cacf7896-3aff-40ca-aeb1-b5f624040cb5",
   "metadata": {},
   "outputs": [],
   "source": []
  },
  {
   "cell_type": "code",
   "execution_count": null,
   "id": "84381220-1e2a-4d4a-8c1e-ffa09100d83f",
   "metadata": {},
   "outputs": [],
   "source": []
  },
  {
   "cell_type": "code",
   "execution_count": null,
   "id": "d390529f-7fcd-49ca-88fb-93809af49120",
   "metadata": {},
   "outputs": [],
   "source": []
  },
  {
   "cell_type": "code",
   "execution_count": null,
   "id": "dbf576b5-b432-4508-a409-77ddb74467b8",
   "metadata": {},
   "outputs": [],
   "source": []
  },
  {
   "cell_type": "code",
   "execution_count": null,
   "id": "1839d4fc-2529-4d0e-b7c8-df39f098203a",
   "metadata": {},
   "outputs": [],
   "source": []
  },
  {
   "cell_type": "markdown",
   "id": "a0e07c91-38b7-43c8-8288-96522b13cae4",
   "metadata": {},
   "source": [
    "## Code complete for adding Type of Constrction, Type of Wall and post tendon to Z>0"
   ]
  }
 ],
 "metadata": {
  "kernelspec": {
   "display_name": "Python 3",
   "language": "python",
   "name": "python3"
  },
  "language_info": {
   "codemirror_mode": {
    "name": "ipython",
    "version": 3
   },
   "file_extension": ".py",
   "mimetype": "text/x-python",
   "name": "python",
   "nbconvert_exporter": "python",
   "pygments_lexer": "ipython3",
   "version": "3.8.8"
  }
 },
 "nbformat": 4,
 "nbformat_minor": 5
}
