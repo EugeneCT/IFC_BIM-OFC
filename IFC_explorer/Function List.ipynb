{
 "cells": [
  {
   "cell_type": "markdown",
   "id": "55fff75a-b3a2-4bcf-8527-c84d7eff3163",
   "metadata": {},
   "source": [
    "# Master code file for IFC"
   ]
  },
  {
   "cell_type": "code",
   "execution_count": 3,
   "id": "05d9eacd-974f-48cb-ab25-e300a100a956",
   "metadata": {},
   "outputs": [],
   "source": [
    "import numpy as np\n",
    "import pandas as pd\n",
    "\n",
    "import ifcopenshell\n",
    "\n",
    "import ifcopenshell.util.element\n",
    "from ifcopenshell.util.selector import Selector\n",
    "from ifcopenshell.util.element import get_psets as check\n",
    "\n",
    "import uuid\n",
    "import datetime\n",
    "import random\n",
    "\n",
    "\n"
   ]
  },
  {
   "cell_type": "markdown",
   "id": "89fdaf5e-f203-4565-bbab-e70f656b9498",
   "metadata": {},
   "source": [
    "## Default Functions"
   ]
  },
  {
   "cell_type": "code",
   "execution_count": 4,
   "id": "39568094-b4cd-49ba-be9f-c1310dd4161d",
   "metadata": {},
   "outputs": [],
   "source": [
    "def get_psets(element):\n",
    "    psets = {}\n",
    "    if element.is_a(\"IfcTypeObject\"):\n",
    "        if element.HasPropertySets:\n",
    "            for definition in element.HasPropertySets:\n",
    "                psets[definition.Name] = get_property_definition(definition)\n",
    "    elif hasattr(element, \"IsDefinedBy\"):\n",
    "        for relationship in element.IsDefinedBy:\n",
    "            if relationship.is_a(\"IfcRelDefinesByProperties\"):\n",
    "                definition = relationship.RelatingPropertyDefinition\n",
    "                psets[definition.Name] = get_property_definition(definition)\n",
    "    return psets\n",
    "\n",
    "\n",
    "def get_property_definition(definition):\n",
    "    if definition is not None:\n",
    "        props = {}\n",
    "        if definition.is_a(\"IfcElementQuantity\"):\n",
    "            props.update(get_quantities(definition.Quantities))\n",
    "        elif definition.is_a(\"IfcPropertySet\"):\n",
    "            props.update(get_properties(definition.HasProperties))\n",
    "        else:\n",
    "            # Entity introduced in IFC4\n",
    "            # definition.is_a('IfcPreDefinedPropertySet'):\n",
    "            for prop in range(4, len(definition)):\n",
    "                if definition[prop] is not None:\n",
    "                    props[definition.attribute_name(prop)] = definition[prop]\n",
    "        return props\n",
    "\n",
    "\n",
    "def get_quantities(quantities):\n",
    "    results = {}\n",
    "    for quantity in quantities:\n",
    "        if quantity.is_a(\"IfcPhysicalSimpleQuantity\"):\n",
    "            results[quantity.Name] = quantity[3]\n",
    "    return results\n",
    "\n",
    "\n",
    "def get_properties(properties):\n",
    "    results = {}\n",
    "    for prop in properties or []:\n",
    "        if prop.is_a(\"IfcPropertySingleValue\"):\n",
    "            results[prop.Name] = prop.NominalValue.wrappedValue if prop.NominalValue else None\n",
    "        elif prop.is_a(\"IfcComplexProperty\"):\n",
    "            data = {k: v for k, v in prop.get_info().items() if v is not None and k != \"Name\"}\n",
    "            data[\"properties\"] = get_properties(prop.HasProperties)\n",
    "            del data[\"HasProperties\"]\n",
    "            results[prop.Name] = data\n",
    "    return results\n",
    "\n",
    "\n",
    "def get_type(element):\n",
    "    if element.is_a(\"IfcTypeObject\"):\n",
    "        return element\n",
    "    elif hasattr(element, \"IsTypedBy\") and element.IsTypedBy:\n",
    "        return element.IsTypedBy[0].RelatingType\n",
    "    elif hasattr(element, \"IsDefinedBy\") and element.IsDefinedBy:  # IFC2X3\n",
    "        for relationship in element.IsDefinedBy:\n",
    "            if relationship.is_a(\"IfcRelDefinesByType\"):\n",
    "                return relationship.RelatingType\n",
    "\n",
    "\n",
    "def get_material(element, should_skip_usage=False):\n",
    "    if hasattr(element, \"HasAssociations\") and element.HasAssociations:\n",
    "        for relationship in element.HasAssociations:\n",
    "            if relationship.is_a(\"IfcRelAssociatesMaterial\"):\n",
    "                if should_skip_usage:\n",
    "                    if relationship.RelatingMaterial.is_a(\"IfcMaterialLayerSetUsage\"):\n",
    "                        return relationship.RelatingMaterial.ForLayerSet\n",
    "                    elif relationship.RelatingMaterial.is_a(\"IfcMaterialProfileSetUsage\"):\n",
    "                        return relationship.RelatingMaterial.ForProfileSet\n",
    "                return relationship.RelatingMaterial\n",
    "    relating_type = get_type(element)\n",
    "    if relating_type != element and hasattr(relating_type, \"HasAssociations\") and relating_type.HasAssociations:\n",
    "        return get_material(relating_type, should_skip_usage)\n",
    "\n",
    "\n",
    "def get_container(element):\n",
    "    aggregate = get_aggregate(element)\n",
    "    if aggregate:\n",
    "        return get_container(aggregate)\n",
    "    if hasattr(element, \"ContainedInStructure\") and element.ContainedInStructure:\n",
    "        return element.ContainedInStructure[0].RelatingStructure\n",
    "\n",
    "\n",
    "def get_decomposition(element):\n",
    "    queue = [element]\n",
    "    results = []\n",
    "    while queue:\n",
    "        element = queue.pop()\n",
    "        for rel in getattr(element, \"ContainsElements\", []):\n",
    "            queue.extend(rel.RelatedElements)\n",
    "            results.extend(rel.RelatedElements)\n",
    "        for rel in getattr(element, \"IsDecomposedBy\", []):\n",
    "            queue.extend(rel.RelatedObjects)\n",
    "            results.extend(rel.RelatedObjects)\n",
    "    return results\n",
    "\n",
    "\n",
    "def get_aggregate(element):\n",
    "    if hasattr(element, \"Decomposes\") and element.Decomposes:\n",
    "        return element.Decomposes[0].RelatingObject\n",
    "\n",
    "\n",
    "def replace_attribute(element, old, new):\n",
    "    for i, attribute in enumerate(element):\n",
    "        if has_element_reference(attribute, old):\n",
    "            new_attribute = element.walk(lambda v: v == old, lambda v: new, attribute)\n",
    "            element[i] = new_attribute\n",
    "\n",
    "\n",
    "def has_element_reference(value, element):\n",
    "    if isinstance(value, (tuple, list)):\n",
    "        for v in value:\n",
    "            if has_element_reference(v, element):\n",
    "                return True\n",
    "        return False\n",
    "    return value == element\n",
    "\n",
    "\n",
    "def remove_deep(ifc_file, element):\n",
    "    # @todo maybe some sort of try-finally mechanism.\n",
    "    ifc_file.batch()\n",
    "    subgraph = list(ifc_file.traverse(element, breadth_first=True))\n",
    "    subgraph_set = set(subgraph)\n",
    "    for ref in subgraph[::-1]:\n",
    "        if ref.id() and len(set(ifc_file.get_inverse(ref)) - subgraph_set) == 0:\n",
    "            ifc_file.remove(ref)\n",
    "    ifc_file.unbatch()\n",
    "\n",
    "\n",
    "def copy(ifc_file, element):\n",
    "    new = ifc_file.create_entity(element.is_a())\n",
    "    for i, attribute in enumerate(element):\n",
    "        if attribute is None:\n",
    "            continue\n",
    "        if new.attribute_name(i) == \"GlobalId\":\n",
    "            new[i] = ifcopenshell.guid.new()\n",
    "        else:\n",
    "            new[i] = attribute\n",
    "    return new\n",
    "\n",
    "\n",
    "def copy_deep(ifc_file, element):\n",
    "    new = ifc_file.create_entity(element.is_a())\n",
    "    for i, attribute in enumerate(element):\n",
    "        if attribute is None:\n",
    "            continue\n",
    "        if isinstance(attribute, ifcopenshell.entity_instance):\n",
    "            attribute = copy_deep(ifc_file, attribute)\n",
    "        elif isinstance(attribute, tuple) and attribute and isinstance(attribute[0], ifcopenshell.entity_instance):\n",
    "            attribute = list(attribute)\n",
    "            for j, item in enumerate(attribute):\n",
    "                attribute[j] = copy_deep(ifc_file, item)\n",
    "        new[i] = attribute\n",
    "    return new"
   ]
  },
  {
   "cell_type": "code",
   "execution_count": 5,
   "id": "aa683a6f-9c02-4fc9-bc27-2c07377f5033",
   "metadata": {},
   "outputs": [],
   "source": [
    "ifc_file= ifcopenshell.open('../IFC_explorer/OMC2-R8-2.ifc')"
   ]
  },
  {
   "cell_type": "markdown",
   "id": "6398034c-6729-4941-a4b4-12a93ab54fc9",
   "metadata": {},
   "source": [
    "### Edited function - Get Pset Path"
   ]
  },
  {
   "cell_type": "code",
   "execution_count": null,
   "id": "cd00bd3c-114e-49ee-bee8-12ee57f8dae1",
   "metadata": {},
   "outputs": [],
   "source": [
    "def get_psets_path(element):\n",
    "    psets = {}\n",
    "    if element.is_a(\"IfcTypeObject\"):\n",
    "        if element.HasPropertySets:\n",
    "            for definition in element.HasPropertySets:\n",
    "                psets[definition.Name] = get_property_definition(definition)\n",
    "                psets[definition.Name+\" Path\"]=\"HEhehe\"\n",
    "         \n",
    "    elif hasattr(element, \"IsDefinedBy\"):\n",
    "        a=0\n",
    "        for relationship in element.IsDefinedBy:\n",
    "        \n",
    "            if relationship.is_a(\"IfcRelDefinesByProperties\"):\n",
    "                definition = relationship.RelatingPropertyDefinition\n",
    "                psets[definition.Name] = get_property_definition(definition,\"element.IsDefinedBy[{}].RelatingPropertyDefinition\".format(a))\n",
    "#                 psets[definition.Name+\" Path\"]=\n",
    "            a=a+1\n",
    "    return psets\n",
    "\n",
    "\n",
    "def get_property_definition(definition,path):\n",
    "    if definition is not None:\n",
    "        props = {}\n",
    "        if definition.is_a(\"IfcElementQuantity\"):\n",
    "            props.update(get_quantities(definition.Quantities,path+\".Quantities\"))\n",
    "        elif definition.is_a(\"IfcPropertySet\"):\n",
    "            props.update(get_properties(definition.HasProperties,path+\".HasProperties\"))\n",
    "        else:\n",
    "            # Entity introduced in IFC4\n",
    "            # definition.is_a('IfcPreDefinedPropertySet'):\n",
    "            for prop in range(4, len(definition)):\n",
    "                if definition[prop] is not None:\n",
    "                    props[definition.attribute_name(prop)] = definition[prop]\n",
    "        return props\n",
    "\n",
    "\n",
    "def get_quantities(quantities,path):\n",
    "    results = {}\n",
    "    a=0\n",
    "    for quantity in quantities:\n",
    "        \n",
    "        if quantity.is_a(\"IfcPhysicalSimpleQuantity\"):\n",
    "            results[quantity.Name] = quantity[3]\n",
    "            results[quantity.Name+\" Path\"]=path+\"[\"+str(a)+\"]\"+\"[3]\"\n",
    "        a=a+1\n",
    "    return results\n",
    "\n",
    "\n",
    "def get_properties(properties,path):\n",
    "    results = {}\n",
    "    a=0\n",
    "    for prop in properties or []:\n",
    "        if prop.is_a(\"IfcPropertySingleValue\"):\n",
    "            results[prop.Name] = prop.NominalValue.wrappedValue if prop.NominalValue else None\n",
    "            results[prop.Name+\" Path\"]=path+\"[{}]\".format(a) +\"[2][0]\"   \n",
    "        elif prop.is_a(\"IfcComplexProperty\"):\n",
    "            data = {k: v for k, v in prop.get_info().items() if v is not None and k != \"Name\"}\n",
    "            data[\"properties\"] = get_properties(prop.HasProperties)\n",
    "            del data[\"HasProperties\"]\n",
    "            results[prop.Name] = data\n",
    "        a=a+1\n",
    "    return results\n"
   ]
  },
  {
   "cell_type": "code",
   "execution_count": null,
   "id": "03751f9d-3826-4f32-83f1-2b601e990667",
   "metadata": {},
   "outputs": [],
   "source": [
    "## This will get you all path of all elements in get_pset\n",
    "\n",
    "get_psets_path(element)"
   ]
  },
  {
   "cell_type": "markdown",
   "id": "77b4e0a7-1465-4be6-b791-9029ca0e6a6e",
   "metadata": {},
   "source": [
    "## Select items"
   ]
  },
  {
   "cell_type": "markdown",
   "id": "2f0d6b09-62f2-455e-829b-e3f942608512",
   "metadata": {},
   "source": [
    "### By Type"
   ]
  },
  {
   "cell_type": "code",
   "execution_count": 7,
   "id": "6ee6a22d-cf21-467f-a97e-d387827ad6f4",
   "metadata": {},
   "outputs": [
    {
     "ename": "NameError",
     "evalue": "name 'ifc_pile' is not defined",
     "output_type": "error",
     "traceback": [
      "\u001b[1;31m---------------------------------------------------------------------------\u001b[0m",
      "\u001b[1;31mNameError\u001b[0m                                 Traceback (most recent call last)",
      "\u001b[1;32m<ipython-input-7-a72f85657ab5>\u001b[0m in \u001b[0;36m<module>\u001b[1;34m\u001b[0m\n\u001b[0;32m     26\u001b[0m \u001b[1;33m\u001b[0m\u001b[0m\n\u001b[0;32m     27\u001b[0m \u001b[1;31m## Super Type/Sub Type (TBD)\u001b[0m\u001b[1;33m\u001b[0m\u001b[1;33m\u001b[0m\u001b[1;33m\u001b[0m\u001b[0m\n\u001b[1;32m---> 28\u001b[1;33m \u001b[0msuper_type\u001b[0m \u001b[1;33m=\u001b[0m \u001b[0mifc_pile\u001b[0m\u001b[1;33m.\u001b[0m\u001b[0msupertype\u001b[0m\u001b[1;33m(\u001b[0m\u001b[1;33m)\u001b[0m\u001b[1;33m\u001b[0m\u001b[1;33m\u001b[0m\u001b[0m\n\u001b[0m\u001b[0;32m     29\u001b[0m \u001b[0msuper_type\u001b[0m\u001b[1;33m.\u001b[0m\u001b[0msubtypes\u001b[0m\u001b[1;33m(\u001b[0m\u001b[1;33m)\u001b[0m\u001b[1;33m\u001b[0m\u001b[1;33m\u001b[0m\u001b[0m\n",
      "\u001b[1;31mNameError\u001b[0m: name 'ifc_pile' is not defined"
     ]
    }
   ],
   "source": [
    "ifc_file.by_type('IfcSite')\n",
    "\n",
    "## Owner History required when creating new realtionship\n",
    "owner_history = ifc_file.by_type(\"IfcOwnerHistory\")[0]\n",
    "\n",
    "## Deal with Buildong storey / elevations\n",
    "BuildingStorey=ifc_file.by_type(\"IfcBuildingStorey\")\n",
    "\n",
    "## Both 3 works to get IFCPile, etc\n",
    "products = ifc_file.by_type('IfcProduct')\n",
    "BuildingElement = ifc_file.by_type('IfcBuildingElement')\n",
    "ifcelements = ifc_file.by_type(\"IfcElement\")\n",
    "\n",
    "## Get Types\n",
    "ifc_site_dataset = ifc_file.by_type('IfcSite')\n",
    "ifc_buildingelementproxy_dataset = ifc_file.by_type('IfcBuildingElementProxy')\n",
    "ifc_stair_dataset = ifc_file.by_type('IfcStair')\n",
    "ifc_column_dataset = ifc_file.by_type('IfcColumn')\n",
    "ifc_beam_dataset = ifc_file.by_type('IfcBeam')\n",
    "ifc_openingelement_dataset = ifc_file.by_type('IfcOpeningElement')\n",
    "ifc_wasteterminal_dataset = ifc_file.by_type('IfcWasteTerminal')\n",
    "ifc_member_dataset = ifc_file.by_type('IfcMember')\n",
    "ifc_wall_dataset = ifc_file.by_type('IfcWall')\n",
    "ifc_slab_dataset = ifc_file.by_type('IfcSlab')\n",
    "ifc_stairflight_dataset = ifc_file.by_type('IfcStairFlight')\n",
    "\n",
    "## Super Type/Sub Type (TBD)\n",
    "super_type = ifc_pile.supertype()\n",
    "super_type.subtypes()"
   ]
  },
  {
   "cell_type": "markdown",
   "id": "2dfb27f5-3b87-4b73-869e-0306e3e97a42",
   "metadata": {},
   "source": [
    "### By Others"
   ]
  },
  {
   "cell_type": "code",
   "execution_count": null,
   "id": "1e1a91b1-e020-4a68-a76e-0f7e07114f7f",
   "metadata": {},
   "outputs": [],
   "source": [
    "## to check if is_a = True/False, also to check is_a WHAT?\n",
    "products.is_a(\"IfcTypeObject)\n",
    "products.is_a()\n",
    "\n",
    "## By ID ~ #323232 , and by GUID\n",
    "products=ifc.by_id(1)\n",
    "products=ifc.by_guid('0EI0MSHbX9gg8Fxwar7lL8')\n",
    "\n",
    "## Access GUID and name of elemnt\n",
    "print(wall.GlobalId)\n",
    "print(wall.Name)              \n",
    "              "
   ]
  },
  {
   "cell_type": "markdown",
   "id": "913a8f48-69ec-4ff1-9b3d-692e355aa4fe",
   "metadata": {},
   "source": [
    "### By Selector"
   ]
  },
  {
   "cell_type": "code",
   "execution_count": null,
   "id": "8f6dd8f4-f219-4231-be39-4fa2b033eeff",
   "metadata": {},
   "outputs": [],
   "source": [
    "## Selector\n",
    "selector=Selector()\n",
    "              \n",
    "# This finds all slabs with \"Arup\" (case-sensitive) in the Name\n",
    "elements = selector.parse(ifc_file, '.IfcPile[Name *= \"Arup\"]')\n",
    "\n",
    "# This finds all slabs which have a quantified net volume greater than 10 units\n",
    "elements = selector.parse(ifc, '.IfcSlab[Qto_SlabBaseQuantities.NetVolume > \"10\"]')\n",
    "\n",
    "# If 0ehnsYoIDA7wC8yu69IDjv is the GlobalId of an IfcBuildingStorey, this gets all of the elements in that storey.\n",
    "elements = selector.parse(ifc, '@ #0ehnsYoIDA7wC8yu69IDjv')\n",
    "              \n",
    "# If 1uVUwUxTX9Jg1NHVw5KZhI is the GlobalId of an IfcTypeElement, this gets all of the elements of that type.\n",
    "elements = selector.parse(ifc, '* #1uVUwUxTX9Jg1NHVw5KZhI')\n",
    "              \n",
    "# This gets all the 2HR fire rated walls in a particular building storey:\n",
    "elements = selector.parse(ifc, '@ #0ehnsYoIDA7wC8yu69IDjv & .IfcWall[Pset_WallCommon.FireRating = \"2HR\"]')              \n",
    "elements =selector.parse(ifc_file, '.IfcWall | .IfcColumn | .IfcBeam | .IfcSlab | .IfcStair  ')\n",
    "\n",
    "# This gets all walls and slabs in a particular building storey\n",
    "elements = selector.parse(ifc, '@ #0ehnsYoIDA7wC8yu69IDjv & ( .IfcWall | .IfcSlab )')\n"
   ]
  },
  {
   "cell_type": "markdown",
   "id": "97362130-05e2-435c-897b-6de36f05f4be",
   "metadata": {},
   "source": [
    "![IFC Hiearchy](IFCTree.jpg)"
   ]
  },
  {
   "cell_type": "markdown",
   "id": "57485db8-462f-478a-9ef1-55a112158b8b",
   "metadata": {},
   "source": [
    "## Breakdown"
   ]
  },
  {
   "cell_type": "markdown",
   "id": "34469551-b774-49aa-bc0e-e6ee3d18178e",
   "metadata": {},
   "source": [
    "### Common Element Psets"
   ]
  },
  {
   "cell_type": "raw",
   "id": "6613b0eb-22ad-4f6d-ab94-c65df3cb53c5",
   "metadata": {},
   "source": [
    "{'Pset_EnvironmentalImpactIndicators': {'Reference': '350W X 350H'},\n",
    " 'Pset_PileCommon': {'Reference': '350W X 350H'},\n",
    " 'Qto_PileBaseQuantities': {'Length': 11850.0,\n",
    "  'CrossSectionArea': 0.122500000000001,\n",
    "  'OuterSurfaceArea': 0.0544291338582678,\n",
    "  'GrossSurfaceArea': 2.69158718595217,\n",
    "  'GrossVolume': 15.6251614586564,\n",
    "  'NetVolume': 1.45162500000002},\n",
    " 'Constraints': {'Moves With Grids': True,\n",
    "  'Level': 'Level: LEVEL',\n",
    "  'Height Offset From Level': -1050.0,\n",
    "  'Host': 'Level : LEVEL'},\n",
    " 'Construction': {'Links': '',\n",
    "  'Mesh': '',\n",
    "  'Reinforcement Bottom': '',\n",
    "  'Reinforcement Grade': '',\n",
    "  'Reinforcement Top': ''},\n",
    " 'Dimensions': {'Area': 0.122500000000001,\n",
    "  'Elevation at Bottom': -8250.0,\n",
    "  'Elevation at Bottom Survey': -8250.0,\n",
    "  'Elevation at Top': 3750.0,\n",
    "  'Elevation at Top Survey': 3750.0,\n",
    "  'Pile Depth': 350.0,\n",
    "  'Pile Length': 12000.0,\n",
    "  'Pile Width': 350.0,\n",
    "  'Volume': 1.45162500000002},\n",
    " 'Identity Data': {'Mark': 'MCB-P14'},\n",
    " 'Materials and Finishes': {'Structural Material': 'Concrete - Precast Concrete'},\n",
    " 'Other': {'Category': 'Structural Foundations',\n",
    "  'Family': 'Square Pile: 350W X 350H',\n",
    "  'Family and Type': 'Square Pile: 350W X 350H',\n",
    "  'Type': 'Square Pile: 350W X 350H',\n",
    "  'Type Id': 'Square Pile: 350W X 350H',\n",
    "  'Pile Volume': 1.47,\n",
    "  'Placement Type': 'Point',\n",
    "  'Project X': 34313.1977699289,\n",
    "  'Project Y': 29679.4394389686,\n",
    "  'Project Z': 3725.0,\n",
    "  'Relative Bottom Elevation': -8275.0,\n",
    "  'Relative Centre Elevation': -2275.0,\n",
    "  'Relative Top Elevation': 3725.0,\n",
    "  'True Easting': 4879460.93154586,\n",
    "  'True Northing': 33785736.4436019},\n",
    " 'Phasing': {'Phase Created': 'New Construction'},\n",
    " 'Structural': {'Enable Analytical Model': True,\n",
    "  'Rebar Cover - Bottom Face': 'Rebar Cover Settings: Rebar Cover 1',\n",
    "  'Rebar Cover - Other Faces': 'Rebar Cover Settings: Rebar Cover 1'},\n",
    " 'Text': {'Concrete Grade': '', 'Pile Zone ID Name': 'MCB-P14'}}"
   ]
  },
  {
   "cell_type": "markdown",
   "id": "c64428f2-520b-4517-ac76-1c311e0f943d",
   "metadata": {},
   "source": [
    "### TO check property set of an element"
   ]
  },
  {
   "cell_type": "code",
   "execution_count": null,
   "id": "7ebfb22a-8aef-4d93-b6a9-b616d91bd8a5",
   "metadata": {},
   "outputs": [],
   "source": [
    "from ifcopenshell.util.element import get_psets as check\n",
    "check(element)"
   ]
  },
  {
   "cell_type": "markdown",
   "id": "1f749c5c-2463-4d61-a696-5a2ccebfe4ce",
   "metadata": {},
   "source": [
    "### To check Z coordiantes of an element"
   ]
  },
  {
   "cell_type": "code",
   "execution_count": null,
   "id": "2b01f25e-4875-4628-afdf-5ed03677bf33",
   "metadata": {},
   "outputs": [],
   "source": [
    "get_local_placement(each.ObjectPlacement)[0:3,3][2]"
   ]
  },
  {
   "cell_type": "markdown",
   "id": "545c37fc-b7dd-4f9f-981a-5b4dc99b59e7",
   "metadata": {},
   "source": [
    "### Route to Material and Finishes"
   ]
  },
  {
   "cell_type": "code",
   "execution_count": null,
   "id": "b31f4c18-f686-4bf1-9207-9ec318b79494",
   "metadata": {},
   "outputs": [],
   "source": [
    "### Route to Material and Finishes\n",
    "for each in elements:\n",
    "    for each2 in each.IsDefinedBy:\n",
    "        print(each2.RelatingPropertyDefinition.Name)\n",
    "        if \"Materials and Finishes\" not in list(each2.RelatingPropertyDefinition):\n",
    "            pass\n",
    "        elif \"Concrete Grade\" not in list(each2.RelatingPropertyDefinition.HasProperties):\n",
    "\n",
    "### Route to Materials and Finished - Related Material\n",
    "for each in elements:\n",
    "    for each2 in each.HasAssociations:\n",
    "        print(each2.HasAssociations.Name)\n",
    "        print(each2.HasAssociations.RelatingMaterial.ForLayerSet.MaterialLayers)\n",
    "        "
   ]
  },
  {
   "cell_type": "markdown",
   "id": "c1fc609b-8c0e-4083-b61f-2ced7221459f",
   "metadata": {},
   "source": [
    "### Route to IFC Export Type"
   ]
  },
  {
   "cell_type": "code",
   "execution_count": null,
   "id": "a4a11c0d-5c09-40e0-8c6e-6060c33dc8fd",
   "metadata": {},
   "outputs": [],
   "source": [
    "for each in elements:\n",
    "    for each2 in each.IsTypedBy[0].RelatingType.HasPropertySets:\n",
    "        for each3 in each2.HasProperties:\n",
    "            if each3.Name==\"IfcExportType\":"
   ]
  },
  {
   "cell_type": "code",
   "execution_count": null,
   "id": "a157827d-7462-4257-bbc7-7d3d0efcb6a0",
   "metadata": {},
   "outputs": [],
   "source": []
  },
  {
   "cell_type": "code",
   "execution_count": null,
   "id": "7203c6a9-43d7-4582-a7a2-125412daca37",
   "metadata": {},
   "outputs": [],
   "source": []
  },
  {
   "cell_type": "code",
   "execution_count": null,
   "id": "42919260-5f11-448b-b7b1-20430712c4eb",
   "metadata": {},
   "outputs": [],
   "source": []
  },
  {
   "cell_type": "code",
   "execution_count": null,
   "id": "dd3a6ba7-be90-438c-b81b-4277c778ef08",
   "metadata": {},
   "outputs": [],
   "source": []
  }
 ],
 "metadata": {
  "kernelspec": {
   "display_name": "Python 3",
   "language": "python",
   "name": "python3"
  },
  "language_info": {
   "codemirror_mode": {
    "name": "ipython",
    "version": 3
   },
   "file_extension": ".py",
   "mimetype": "text/x-python",
   "name": "python",
   "nbconvert_exporter": "python",
   "pygments_lexer": "ipython3",
   "version": "3.8.8"
  }
 },
 "nbformat": 4,
 "nbformat_minor": 5
}
