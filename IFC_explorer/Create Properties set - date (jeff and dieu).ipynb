{
 "cells": [
  {
   "cell_type": "code",
   "execution_count": 14,
   "metadata": {},
   "outputs": [],
   "source": [
    "import pandas as pd\n",
    "\n",
    "import ifcopenshell\n",
    "\n",
    "import ifcopenshell.util.element\n",
    "\n",
    "from ifcopenshell.util.selector import Selector\n",
    "from ifcopenshell.util.element import get_psets as check\n",
    "import datetime\n",
    "import random\n",
    "\n",
    "import uuid"
   ]
  },
  {
   "cell_type": "code",
   "execution_count": 6,
   "metadata": {},
   "outputs": [],
   "source": [
    "#READ ORIGINAL IFC FILE\n",
    "ifc_file= ifcopenshell.open('OMC2_R7_Before.ifc')"
   ]
  },
  {
   "cell_type": "code",
   "execution_count": 7,
   "metadata": {},
   "outputs": [],
   "source": [
    "ifcelements = ifc_file.by_type(\"IfcElement\")\n",
    "owner_history = ifc_file.by_type(\"IfcOwnerHistory\")[0]\n",
    "ifc_file_after= 'OMC2_R7_After_Products.ifc'\n",
    " \n",
    "elements =[i for i in ifcelements]"
   ]
  },
  {
   "cell_type": "code",
   "execution_count": 8,
   "metadata": {},
   "outputs": [],
   "source": [
    "def generate_installation_date():\n",
    "    start_date = datetime.date(2022, 5, 31)\n",
    "    end_date = datetime.date(2022, 7, 31)\n",
    "\n",
    "    time_between_dates = end_date - start_date\n",
    "    days_between_dates = time_between_dates.days\n",
    "    random_number_of_days = random.randrange(days_between_dates)\n",
    "    random_date =start_date + datetime.timedelta(days=random_number_of_days)\n",
    "    return(random_date.strftime(\"%d-%m-%Y\"))"
   ]
  },
  {
   "cell_type": "code",
   "execution_count": 11,
   "metadata": {},
   "outputs": [],
   "source": [
    "create_guid = lambda: ifcopenshell.guid.compress(uuid.uuid1().hex)"
   ]
  },
  {
   "cell_type": "code",
   "execution_count": 20,
   "metadata": {},
   "outputs": [
    {
     "data": {
      "text/plain": [
       "'0CDpM8cfuHxByP7W2v8KGr'"
      ]
     },
     "execution_count": 20,
     "metadata": {},
     "output_type": "execute_result"
    }
   ],
   "source": [
    "#create_guid()"
   ]
  },
  {
   "cell_type": "code",
   "execution_count": 1,
   "metadata": {},
   "outputs": [],
   "source": [
    "create_guid = lambda: ifcopenshell.guid.compress(uuid.uuid1().hex)"
   ]
  },
  {
   "cell_type": "code",
   "execution_count": 3,
   "metadata": {},
   "outputs": [
    {
     "ename": "NameError",
     "evalue": "name 'ifcopenshell' is not defined",
     "output_type": "error",
     "traceback": [
      "\u001b[1;31m---------------------------------------------------------------------------\u001b[0m",
      "\u001b[1;31mNameError\u001b[0m                                 Traceback (most recent call last)",
      "\u001b[1;32m<ipython-input-3-5711ee4988a4>\u001b[0m in \u001b[0;36m<module>\u001b[1;34m\u001b[0m\n\u001b[1;32m----> 1\u001b[1;33m \u001b[0mcreate_guid\u001b[0m\u001b[1;33m(\u001b[0m\u001b[1;33m)\u001b[0m\u001b[1;33m\u001b[0m\u001b[1;33m\u001b[0m\u001b[0m\n\u001b[0m",
      "\u001b[1;32m<ipython-input-1-6e02fa67cc40>\u001b[0m in \u001b[0;36m<lambda>\u001b[1;34m()\u001b[0m\n\u001b[1;32m----> 1\u001b[1;33m \u001b[0mcreate_guid\u001b[0m \u001b[1;33m=\u001b[0m \u001b[1;32mlambda\u001b[0m\u001b[1;33m:\u001b[0m \u001b[0mifcopenshell\u001b[0m\u001b[1;33m.\u001b[0m\u001b[0mguid\u001b[0m\u001b[1;33m.\u001b[0m\u001b[0mcompress\u001b[0m\u001b[1;33m(\u001b[0m\u001b[0muuid\u001b[0m\u001b[1;33m.\u001b[0m\u001b[0muuid1\u001b[0m\u001b[1;33m(\u001b[0m\u001b[1;33m)\u001b[0m\u001b[1;33m.\u001b[0m\u001b[0mhex\u001b[0m\u001b[1;33m)\u001b[0m\u001b[1;33m\u001b[0m\u001b[1;33m\u001b[0m\u001b[0m\n\u001b[0m",
      "\u001b[1;31mNameError\u001b[0m: name 'ifcopenshell' is not defined"
     ]
    }
   ],
   "source": [
    "create_guid()"
   ]
  },
  {
   "cell_type": "code",
   "execution_count": null,
   "metadata": {},
   "outputs": [],
   "source": [
    "##former version\n",
    "\n",
    "for element in elements:\n",
    "    property_values = [\n",
    "    ifc_file.createIfcPropertySingleValue(\"Target Installation Date\", \"Target Installation Date\", ifc_file.create_entity(\"IfcText\", generate_installation_date()), None),\n",
    "    ifc_file.createIfcPropertySingleValue(\"Delivery Lead Time\", \"Delivery Lead Time\", ifc_file.create_entity(\"IfcText\", \"1 Month\"), None),\n",
    "    ifc_file.createIfcPropertySingleValue(\"Production Lead Time\", \"Production Lead Time\", ifc_file.create_entity(\"IfcText\", \"1 Month\"), None)\n",
    "    ]   \n",
    "    property_set = ifc_file.createIfcPropertySet(element.GlobalId, owner_history, \"Element Timeline\", None, property_values)\n",
    "    ifc_file.createIfcRelDefinesByProperties(element.GlobalId, owner_history, None, None, [element], property_set)\n",
    "\n",
    "ifc_file.write(ifc_file_after)  "
   ]
  },
  {
   "cell_type": "code",
   "execution_count": 21,
   "metadata": {},
   "outputs": [],
   "source": [
    "###alternate version\n",
    "for element in elements:\n",
    "    property_values = [\n",
    "    ifc_file.createIfcPropertySingleValue(\"Target Installation Date\", \"Target Installation Date\", ifc_file.create_entity(\"IfcText\", generate_installation_date()), None),\n",
    "    ifc_file.createIfcPropertySingleValue(\"Delivery Lead Time\", \"Delivery Lead Time\", ifc_file.create_entity(\"IfcText\", \"1 Month\"), None),\n",
    "    ifc_file.createIfcPropertySingleValue(\"Production Lead Time\", \"Production Lead Time\", ifc_file.create_entity(\"IfcText\", \"1 Month\"), None)\n",
    "    ]   \n",
    "    #property_set = ifc_file.createIfcPropertySet(element.GlobalId, owner_history, \"Element Timeline\", None, property_values)\n",
    "    property_set = ifc_file.createIfcPropertySet(create_guid(), owner_history, \"Element Timeline\", None, property_values)\n",
    "    \n",
    "    #ifc_file.createIfcRelDefinesByProperties(element.GlobalId, owner_history, None, None, [element], property_set)\n",
    "    ifc_file.createIfcRelDefinesByProperties(create_guid(), owner_history, None, None, [element], property_set)\n",
    "\n",
    "ifc_file.write(ifc_file_after)  "
   ]
  },
  {
   "cell_type": "code",
   "execution_count": 17,
   "metadata": {},
   "outputs": [
    {
     "name": "stdout",
     "output_type": "stream",
     "text": [
      "#388=IfcPile('3l3keWQeXDeu4ojDge0Jty',#42,'Arup_CS_Pile_Concrete_Generic_Circular:Ø800 SPUN PILE:753279',$,'Arup_CS_Pile_Concrete_Generic_Circular:Ø800 SPUN PILE',#386,#380,'753279',.NOTDEFINED.,$)\n"
     ]
    }
   ],
   "source": [
    "for element in elements:\n",
    "    print(element)\n",
    "    break"
   ]
  },
  {
   "cell_type": "code",
   "execution_count": null,
   "metadata": {},
   "outputs": [],
   "source": []
  }
 ],
 "metadata": {
  "interpreter": {
   "hash": "b884b6944c27031e078da9ad7331300f3b8a44162cca9eb5c98092792bb87428"
  },
  "kernelspec": {
   "display_name": "Python 3",
   "language": "python",
   "name": "python3"
  },
  "language_info": {
   "codemirror_mode": {
    "name": "ipython",
    "version": 3
   },
   "file_extension": ".py",
   "mimetype": "text/x-python",
   "name": "python",
   "nbconvert_exporter": "python",
   "pygments_lexer": "ipython3",
   "version": "3.8.8"
  }
 },
 "nbformat": 4,
 "nbformat_minor": 4
}
