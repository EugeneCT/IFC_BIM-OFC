{
 "cells": [
  {
   "cell_type": "markdown",
   "id": "aee4c4b9-86cc-4fa7-8a8e-6d0e0349b03e",
   "metadata": {},
   "source": [
    "### For mergeing 2 files from same project but different discipline  - They will have the same coordinates"
   ]
  },
  {
   "cell_type": "code",
   "execution_count": null,
   "id": "18278ee0-40eb-4d89-835a-df5ba4b82b10",
   "metadata": {},
   "outputs": [],
   "source": [
    "from ifcopenshell.util.selector import Selector\n",
    "\n",
    "from ifcopenshell.util.element import get_psets as check\n",
    "import os\n",
    "\n",
    "import pandas as pd\n",
    "import numpy as np"
   ]
  },
  {
   "cell_type": "code",
   "execution_count": null,
   "id": "efd51966-f9e5-4ed3-acf6-abeb8cd182c7",
   "metadata": {},
   "outputs": [],
   "source": [
    "\n",
    "import ifcopenshell\n",
    "import ifcopenshell.util.element\n",
    "\n"
   ]
  },
  {
   "cell_type": "code",
   "execution_count": null,
   "id": "fb3bd356-d204-42b9-aa51-bc16da74456c",
   "metadata": {},
   "outputs": [],
   "source": [
    "class Patcher:\n",
    "    def __init__(self, src, file, logger, args=None):\n",
    "        self.src = src\n",
    "        self.file = file\n",
    "        self.logger = logger\n",
    "        self.args = args\n",
    "\n",
    "    def patch(self):\n",
    "        source = ifcopenshell.open(self.args[0])\n",
    "        original_project = self.file.by_type('IfcProject')[0]\n",
    "        merged_project = self.file.add(source.by_type('IfcProject')[0])\n",
    "        for element in source.by_type('IfcRoot'):\n",
    "            self.file.add(element)\n",
    "        for inverse in self.file.get_inverse(merged_project):\n",
    "            ifcopenshell.util.element.replace_attribute(inverse, merged_project, original_project)\n",
    "        self.file.remove(merged_project)"
   ]
  },
  {
   "cell_type": "code",
   "execution_count": null,
   "id": "3da42760-3051-44cf-84b7-7b14fb75032f",
   "metadata": {},
   "outputs": [],
   "source": [
    "def merge_file(self, source):\n",
    "    original_project = self.by_type(\"IfcProject\")[0]\n",
    "    temp_project = self.add(source.by_type(\"IfcProject\")[0])\n",
    "    for element in source.by_type(\"IfcRoot\"):\n",
    "        self.add(element)\n",
    "    for element in self.get_inverse(temp_project):\n",
    "        ifcopenshell.util.element.replace_attribute(\n",
    "            element, temp_project, original_project\n",
    "        )\n",
    "    self.remove(temp_project)"
   ]
  },
  {
   "cell_type": "code",
   "execution_count": null,
   "id": "1f49c9b6-2d30-4721-af5d-0ff389894570",
   "metadata": {},
   "outputs": [],
   "source": [
    "ST=ifcopenshell.open('ESS-ST.ifc')\n",
    "AR=ifcopenshell.open('ESS-AR.ifc')"
   ]
  },
  {
   "cell_type": "code",
   "execution_count": null,
   "id": "3514dc99-ec6a-4646-a2f3-76c200ae0f84",
   "metadata": {},
   "outputs": [],
   "source": [
    "merge_file(ST,AR)"
   ]
  },
  {
   "cell_type": "code",
   "execution_count": null,
   "id": "0704fe88-d315-4b46-b60e-420c52240a9c",
   "metadata": {},
   "outputs": [],
   "source": [
    "ST.write('ESS_STAR.ifc')  "
   ]
  },
  {
   "cell_type": "code",
   "execution_count": null,
   "id": "ec5d85e5-822c-46a3-b5f0-06f7629639cb",
   "metadata": {},
   "outputs": [],
   "source": []
  }
 ],
 "metadata": {
  "kernelspec": {
   "display_name": "Python 3",
   "language": "python",
   "name": "python3"
  },
  "language_info": {
   "codemirror_mode": {
    "name": "ipython",
    "version": 3
   },
   "file_extension": ".py",
   "mimetype": "text/x-python",
   "name": "python",
   "nbconvert_exporter": "python",
   "pygments_lexer": "ipython3",
   "version": "3.8.8"
  }
 },
 "nbformat": 4,
 "nbformat_minor": 5
}
